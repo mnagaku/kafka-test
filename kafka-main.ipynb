{
 "cells": [
  {
   "cell_type": "code",
   "execution_count": null,
   "metadata": {
    "lc_cell_meme": {
     "current": "c672b916-2ab9-11e9-acff-02420aff0006",
     "next": "c672bb14-2ab9-11e9-acff-02420aff0006",
     "previous": null
    }
   },
   "outputs": [],
   "source": [
    "!curl -fsSL https://download.docker.com/linux/static/stable/x86_64/docker-18.06.1-ce.tgz \\\n",
    "    | sudo tar -xzC /usr/local/bin --strip=1 docker/docker"
   ]
  },
  {
   "cell_type": "code",
   "execution_count": null,
   "metadata": {
    "lc_cell_meme": {
     "current": "c672bb14-2ab9-11e9-acff-02420aff0006",
     "next": "c672bce0-2ab9-11e9-acff-02420aff0006",
     "previous": "c672b916-2ab9-11e9-acff-02420aff0006"
    }
   },
   "outputs": [],
   "source": [
    "!sudo docker -v"
   ]
  },
  {
   "cell_type": "code",
   "execution_count": null,
   "metadata": {
    "lc_cell_meme": {
     "current": "c672bce0-2ab9-11e9-acff-02420aff0006",
     "next": "c672be7a-2ab9-11e9-acff-02420aff0006",
     "previous": "c672bb14-2ab9-11e9-acff-02420aff0006"
    }
   },
   "outputs": [],
   "source": [
    "!sudo docker ps -a"
   ]
  },
  {
   "cell_type": "code",
   "execution_count": null,
   "metadata": {
    "lc_cell_meme": {
     "current": "c672be7a-2ab9-11e9-acff-02420aff0006",
     "history": [
      {
       "current": "c672be7a-2ab9-11e9-acff-02420aff0006",
       "next": null,
       "previous": "c672bce0-2ab9-11e9-acff-02420aff0006"
      }
     ],
     "next": "55115da8-2aba-11e9-acff-02420aff0006",
     "previous": "c672bce0-2ab9-11e9-acff-02420aff0006"
    }
   },
   "outputs": [],
   "source": [
    "result = !sudo docker ps"
   ]
  },
  {
   "cell_type": "code",
   "execution_count": null,
   "metadata": {
    "lc_cell_meme": {
     "current": "55115da8-2aba-11e9-acff-02420aff0006",
     "history": [
      {
       "current": "55115da8-2aba-11e9-acff-02420aff0006",
       "next": null,
       "previous": "c672be7a-2ab9-11e9-acff-02420aff0006"
      }
     ],
     "next": "e41e349e-2aba-11e9-acff-02420aff0006",
     "previous": "c672be7a-2ab9-11e9-acff-02420aff0006"
    }
   },
   "outputs": [],
   "source": [
    "kafka = \"\"\n",
    "for line in result :\n",
    "    for word in line.split() :\n",
    "        if word.find(\"pwd_kafka.1.\") != -1 :\n",
    "            kafka = word\n",
    "print(kafka)"
   ]
  },
  {
   "cell_type": "code",
   "execution_count": null,
   "metadata": {
    "lc_cell_meme": {
     "current": "e41e349e-2aba-11e9-acff-02420aff0006",
     "next": "e41e3764-2aba-11e9-acff-02420aff0006",
     "previous": "55115da8-2aba-11e9-acff-02420aff0006"
    }
   },
   "outputs": [],
   "source": [
    "!pip install kafka-python"
   ]
  },
  {
   "cell_type": "code",
   "execution_count": null,
   "metadata": {
    "lc_cell_meme": {
     "current": "e41e3764-2aba-11e9-acff-02420aff0006",
     "next": "e41e38e0-2aba-11e9-acff-02420aff0006",
     "previous": "e41e349e-2aba-11e9-acff-02420aff0006"
    }
   },
   "outputs": [],
   "source": [
    "from kafka import KafkaConsumer\n",
    "\n",
    "consumer = KafkaConsumer('test', bootstrap_servers=kafka+':9092')\n",
    "\n",
    "for msg in consumer:\n",
    "    print(msg)"
   ]
  },
  {
   "cell_type": "markdown",
   "metadata": {
    "lc_cell_meme": {
     "current": "e41e38e0-2aba-11e9-acff-02420aff0006",
     "history": [
      {
       "current": "e41e38e0-2aba-11e9-acff-02420aff0006",
       "next": null,
       "previous": "e41e3764-2aba-11e9-acff-02420aff0006"
      }
     ],
     "next": "2ba40e42-2abb-11e9-acff-02420aff0006",
     "previous": "e41e3764-2aba-11e9-acff-02420aff0006"
    }
   },
   "source": [
    "受ける側を動かしたら、別のnbで投げる側を動かす。"
   ]
  },
  {
   "cell_type": "code",
   "execution_count": null,
   "metadata": {
    "lc_cell_meme": {
     "current": "2ba40e42-2abb-11e9-acff-02420aff0006",
     "history": [
      {
       "current": "2ba40e42-2abb-11e9-acff-02420aff0006",
       "next": null,
       "previous": "e41e38e0-2aba-11e9-acff-02420aff0006"
      }
     ],
     "next": "485234b2-2abe-11e9-acff-02420aff0006",
     "previous": "e41e38e0-2aba-11e9-acff-02420aff0006"
    }
   },
   "outputs": [],
   "source": [
    "import sys\n",
    "\n",
    "from kafka import KafkaConsumer\n",
    "\n",
    "consumer = KafkaConsumer('test', bootstrap_servers=kafka+':9092')\n",
    "\n",
    "for msg in consumer:\n",
    "    outfile = open(\"test1.png\", 'wb')\n",
    "    outfile.write(msg.value)\n",
    "    outfile.close()"
   ]
  },
  {
   "cell_type": "code",
   "execution_count": null,
   "metadata": {
    "lc_cell_meme": {
     "current": "485234b2-2abe-11e9-acff-02420aff0006",
     "history": [
      {
       "current": "485234b2-2abe-11e9-acff-02420aff0006",
       "next": null,
       "previous": "2ba40e42-2abb-11e9-acff-02420aff0006"
      }
     ],
     "next": "27069440-3cb3-11e9-82fa-0242c0a80004",
     "previous": "2ba40e42-2abb-11e9-acff-02420aff0006"
    }
   },
   "outputs": [],
   "source": [
    "import sys\n",
    "from IPython.display import Image, display_jpeg\n",
    "from kafka import KafkaConsumer\n",
    "\n",
    "consumer = KafkaConsumer('distributed-video1', bootstrap_servers=[\"kafka:9092\"])\n",
    "\n",
    "n = 1\n",
    "for msg in consumer:\n",
    "    outfile = open(\"c_photo\"+str(n)+\".jpeg\", 'wb')\n",
    "    outfile.write(msg.value)\n",
    "    outfile.close()\n",
    "    print(\"save : \" + str(n))\n",
    "    display_jpeg(Image(\"c_photo\"+str(n)+\".jpeg\"))\n",
    "    n += 1\n"
   ]
  },
  {
   "cell_type": "code",
   "execution_count": null,
   "metadata": {
    "lc_cell_meme": {
     "current": "27069440-3cb3-11e9-82fa-0242c0a80004",
     "history": [
      {
       "current": "27069440-3cb3-11e9-82fa-0242c0a80004",
       "next": null,
       "previous": "485234b2-2abe-11e9-acff-02420aff0006"
      }
     ],
     "next": "406423e4-3d08-11e9-b985-0242c0a80004",
     "previous": "485234b2-2abe-11e9-acff-02420aff0006"
    }
   },
   "outputs": [],
   "source": [
    "%matplotlib notebook\n",
    "\n",
    "import time\n",
    "from PIL import Image\n",
    "import matplotlib.pyplot as plt\n",
    "import numpy as np\n",
    "\n",
    "frames = 60\n",
    "\n",
    "for count in range(frames) :\n",
    "    im = Image.open(\"photo\"+str(count%5+1)+\".jpeg\")\n",
    "    im_list = np.asarray(im)\n",
    "    plt.imshow(im_list)\n",
    "    plt.pause(.1)\n"
   ]
  },
  {
   "cell_type": "code",
   "execution_count": null,
   "metadata": {
    "lc_cell_meme": {
     "current": "406423e4-3d08-11e9-b985-0242c0a80004",
     "history": [
      {
       "current": "406423e4-3d08-11e9-b985-0242c0a80004",
       "next": null,
       "previous": "27069440-3cb3-11e9-82fa-0242c0a80004"
      }
     ],
     "next": "ad08a0dc-3d0e-11e9-b985-0242c0a80004",
     "previous": "27069440-3cb3-11e9-82fa-0242c0a80004"
    }
   },
   "outputs": [],
   "source": [
    "%matplotlib notebook\n",
    "\n",
    "import matplotlib.pyplot as plt\n",
    "import matplotlib.animation as animation\n",
    "import numpy as np\n",
    "from PIL import Image\n",
    "import time\n",
    "\n",
    "N = 50\n",
    "\n",
    "fig, ax = plt.subplots()\n",
    "\n",
    "def update(i):\n",
    "    im = Image.open(\"photo\"+str(i%5+1)+\".jpeg\")\n",
    "    im_list = np.asarray(im)\n",
    "    plt.clf()\n",
    "    plt.imshow(im_list)\n",
    "\n",
    "hoge = animation.FuncAnimation(fig, update, interval=100)  # 代入しないと消される\n",
    "plt.show()"
   ]
  },
  {
   "cell_type": "code",
   "execution_count": null,
   "metadata": {
    "lc_cell_meme": {
     "current": "ad08a0dc-3d0e-11e9-b985-0242c0a80004",
     "history": [
      {
       "current": "ad08a0dc-3d0e-11e9-b985-0242c0a80004",
       "next": null,
       "previous": "406423e4-3d08-11e9-b985-0242c0a80004"
      }
     ],
     "next": "406eb896-3d5c-11e9-a6df-0242c0a80004",
     "previous": "406423e4-3d08-11e9-b985-0242c0a80004"
    }
   },
   "outputs": [],
   "source": [
    "%matplotlib notebook\n",
    "\n",
    "import sys\n",
    "import matplotlib.pyplot as plt\n",
    "import matplotlib.animation as animation\n",
    "import numpy as np\n",
    "from kafka import KafkaConsumer\n",
    "from PIL import Image\n",
    "\n",
    "fig, ax = plt.subplots()\n",
    "\n",
    "consumer = KafkaConsumer('distributed-video1', bootstrap_servers=[\"kafka:9092\"])\n",
    "\n",
    "def update(msg):\n",
    "    filename = \"tmp.jpeg\"\n",
    "    outfile = open(filename, 'wb')\n",
    "    outfile.write(msg.value)\n",
    "    outfile.close()\n",
    "    im = Image.open(filename)\n",
    "    im_list = np.asarray(im)\n",
    "    plt.clf()\n",
    "    plt.imshow(im_list)\n",
    "\n",
    "hoge = animation.FuncAnimation(fig, update, consumer, interval=100)  # 代入しないと消される\n",
    "plt.show()\n"
   ]
  },
  {
   "cell_type": "code",
   "execution_count": null,
   "metadata": {
    "lc_cell_meme": {
     "current": "406eb896-3d5c-11e9-a6df-0242c0a80004",
     "next": null,
     "previous": "ad08a0dc-3d0e-11e9-b985-0242c0a80004"
    }
   },
   "outputs": [],
   "source": []
  }
 ],
 "metadata": {
  "kernelspec": {
   "display_name": "Python 3 (LC_wrapper)",
   "language": "python",
   "name": "python3-wrapper"
  },
  "language_info": {
   "file_extension": ".py",
   "mimetype": "text/x-python",
   "name": "python",
   "nbconvert_exporter": "python",
   "pygments_lexer": "ipython3",
   "version": "3.7.1"
  },
  "lc_notebook_meme": {
   "current": "c672b588-2ab9-11e9-acff-02420aff0006",
   "lc_server_signature": {
    "current": {
     "notebook_dir": "/home/jovyan",
     "notebook_path": "/kafka-test",
     "server_url": "http://localhost:8888/",
     "signature_id": "746e6e14-3eda-11e9-946f-0242c0a80004"
    },
    "history": [
     {
      "notebook_dir": "/home/jovyan",
      "notebook_path": "/",
      "server_url": "http://ip172-18-0-11-bhdverr0mkfg00f3flfg-8888.direct.labs.play-with-docker.com/",
      "signature_id": "29197538-2ab9-11e9-acff-02420aff0006"
     },
     {
      "notebook_dir": "/home/jovyan",
      "notebook_path": "/kafka-test",
      "server_url": "http://localhost:8888/",
      "signature_id": "738368f6-3caf-11e9-82fa-0242c0a80004"
     },
     {
      "notebook_dir": "/home/jovyan",
      "notebook_path": "/kafka-test",
      "server_url": "http://localhost:8888/",
      "signature_id": "b9ef1bc4-3d03-11e9-b985-0242c0a80004"
     },
     {
      "notebook_dir": "/home/jovyan",
      "notebook_path": "/kafka-test",
      "server_url": "http://localhost:8888/",
      "signature_id": "57145ecc-3d55-11e9-a6df-0242c0a80004"
     }
    ]
   }
  },
  "toc": {
   "base_numbering": 1,
   "nav_menu": {},
   "number_sections": true,
   "sideBar": true,
   "skip_h1_title": false,
   "title_cell": "Table of Contents",
   "title_sidebar": "Contents",
   "toc_cell": false,
   "toc_position": {},
   "toc_section_display": true,
   "toc_window_display": false
  }
 },
 "nbformat": 4,
 "nbformat_minor": 2
}
