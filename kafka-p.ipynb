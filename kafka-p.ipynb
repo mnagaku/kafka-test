{
 "cells": [
  {
   "cell_type": "code",
   "execution_count": 1,
   "metadata": {
    "deletable": false,
    "editable": false,
    "lc_cell_meme": {
     "current": "5dff42ee-2abb-11e9-acff-02420aff0006",
     "next": "5dff4744-2abb-11e9-acff-02420aff0006",
     "previous": null
    },
    "run_through_control": {
     "frozen": true
    }
   },
   "outputs": [],
   "source": [
    "result = !sudo docker ps"
   ]
  },
  {
   "cell_type": "code",
   "execution_count": 2,
   "metadata": {
    "deletable": false,
    "editable": false,
    "lc_cell_meme": {
     "current": "5dff4744-2abb-11e9-acff-02420aff0006",
     "next": "5dff48ac-2abb-11e9-acff-02420aff0006",
     "previous": "5dff42ee-2abb-11e9-acff-02420aff0006"
    },
    "run_through_control": {
     "frozen": true
    }
   },
   "outputs": [
    {
     "name": "stdout",
     "output_type": "stream",
     "text": [
      "pwd_kafka.1.ketpqsj3fzj9yya550r7uw9gy\n"
     ]
    }
   ],
   "source": [
    "kafka = \"\"\n",
    "for line in result :\n",
    "    for word in line.split() :\n",
    "        if word.find(\"pwd_kafka.1.\") != -1 :\n",
    "            kafka = word\n",
    "print(kafka)"
   ]
  },
  {
   "cell_type": "code",
   "execution_count": 4,
   "metadata": {
    "deletable": false,
    "editable": false,
    "lc_cell_meme": {
     "current": "5dff48ac-2abb-11e9-acff-02420aff0006",
     "history": [
      {
       "current": "5dff48ac-2abb-11e9-acff-02420aff0006",
       "next": null,
       "previous": "5dff4744-2abb-11e9-acff-02420aff0006"
      }
     ],
     "next": "a598bf2c-2abb-11e9-acff-02420aff0006",
     "previous": "5dff4744-2abb-11e9-acff-02420aff0006"
    },
    "run_through_control": {
     "frozen": true,
     "read_only": false
    }
   },
   "outputs": [
    {
     "data": {
      "text/plain": [
       "RecordMetadata(topic='test', partition=0, topic_partition=TopicPartition(topic='test', partition=0), offset=0, timestamp=1549532007537, checksum=None, serialized_key_size=-1, serialized_value_size=12, serialized_header_size=-1)"
      ]
     },
     "execution_count": 4,
     "metadata": {},
     "output_type": "execute_result"
    }
   ],
   "source": [
    "from kafka import KafkaProducer\n",
    "\n",
    "producer = KafkaProducer(bootstrap_servers=kafka+\":9092\")\n",
    "\n",
    "producer.send('test', b'testmessage1').get(timeout=1)"
   ]
  },
  {
   "cell_type": "code",
   "execution_count": 4,
   "metadata": {
    "deletable": false,
    "editable": false,
    "lc_cell_meme": {
     "current": "a598bf2c-2abb-11e9-acff-02420aff0006",
     "history": [
      {
       "current": "a598bf2c-2abb-11e9-acff-02420aff0006",
       "next": null,
       "previous": "5dff48ac-2abb-11e9-acff-02420aff0006"
      }
     ],
     "next": "af560c88-2abe-11e9-acff-02420aff0006",
     "previous": "5dff48ac-2abb-11e9-acff-02420aff0006"
    },
    "run_through_control": {
     "frozen": true
    }
   },
   "outputs": [],
   "source": [
    "import sys\n",
    "\n",
    "from kafka import KafkaProducer\n",
    "\n",
    "producer = KafkaProducer(bootstrap_servers=kafka+\":9092\")\n",
    "\n",
    "infile = open(\"kafka-logo.png\", 'rb')\n",
    "data = infile.read()\n",
    "producer.send('test', data).get(timeout=1)\n",
    "infile.close()\n"
   ]
  },
  {
   "cell_type": "code",
   "execution_count": null,
   "metadata": {
    "lc_cell_meme": {
     "current": "af560c88-2abe-11e9-acff-02420aff0006",
     "next": null,
     "previous": "a598bf2c-2abb-11e9-acff-02420aff0006"
    }
   },
   "outputs": [],
   "source": []
  }
 ],
 "metadata": {
  "kernelspec": {
   "display_name": "Python 3 (LC_wrapper)",
   "language": "python",
   "name": "python3-wrapper"
  },
  "language_info": {
   "file_extension": ".py",
   "mimetype": "text/x-python",
   "name": "python",
   "nbconvert_exporter": "python",
   "pygments_lexer": "ipython3",
   "version": "3.7.1"
  },
  "lc_notebook_meme": {
   "current": "5dff3fba-2abb-11e9-acff-02420aff0006",
   "lc_server_signature": {
    "current": {
     "notebook_dir": "/home/jovyan",
     "notebook_path": "/",
     "server_url": "http://ip172-18-0-11-bhdverr0mkfg00f3flfg-8888.direct.labs.play-with-docker.com/",
     "signature_id": "29197538-2ab9-11e9-acff-02420aff0006"
    },
    "history": []
   }
  },
  "toc": {
   "base_numbering": 1,
   "nav_menu": {},
   "number_sections": true,
   "sideBar": true,
   "skip_h1_title": false,
   "title_cell": "Table of Contents",
   "title_sidebar": "Contents",
   "toc_cell": false,
   "toc_position": {},
   "toc_section_display": true,
   "toc_window_display": false
  }
 },
 "nbformat": 4,
 "nbformat_minor": 2
}
