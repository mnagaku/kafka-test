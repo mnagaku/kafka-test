{
 "cells": [
  {
   "cell_type": "code",
   "execution_count": null,
   "metadata": {
    "lc_cell_meme": {
     "current": "5dff42ee-2abb-11e9-acff-02420aff0006",
     "next": "5dff4744-2abb-11e9-acff-02420aff0006",
     "previous": null
    }
   },
   "outputs": [],
   "source": [
    "result = !sudo docker ps"
   ]
  },
  {
   "cell_type": "code",
   "execution_count": null,
   "metadata": {
    "lc_cell_meme": {
     "current": "5dff4744-2abb-11e9-acff-02420aff0006",
     "next": "5dff48ac-2abb-11e9-acff-02420aff0006",
     "previous": "5dff42ee-2abb-11e9-acff-02420aff0006"
    }
   },
   "outputs": [],
   "source": [
    "kafka = \"\"\n",
    "for line in result :\n",
    "    for word in line.split() :\n",
    "        if word.find(\"pwd_kafka.1.\") != -1 :\n",
    "            kafka = word\n",
    "print(kafka)"
   ]
  },
  {
   "cell_type": "code",
   "execution_count": null,
   "metadata": {
    "lc_cell_meme": {
     "current": "5dff48ac-2abb-11e9-acff-02420aff0006",
     "history": [
      {
       "current": "5dff48ac-2abb-11e9-acff-02420aff0006",
       "next": null,
       "previous": "5dff4744-2abb-11e9-acff-02420aff0006"
      }
     ],
     "next": "a598bf2c-2abb-11e9-acff-02420aff0006",
     "previous": "5dff4744-2abb-11e9-acff-02420aff0006"
    }
   },
   "outputs": [],
   "source": [
    "from kafka import KafkaProducer\n",
    "\n",
    "producer = KafkaProducer(bootstrap_servers=kafka+\":9092\")\n",
    "\n",
    "producer.send('test', b'testmessage1').get(timeout=1)"
   ]
  },
  {
   "cell_type": "code",
   "execution_count": null,
   "metadata": {
    "lc_cell_meme": {
     "current": "a598bf2c-2abb-11e9-acff-02420aff0006",
     "history": [
      {
       "current": "a598bf2c-2abb-11e9-acff-02420aff0006",
       "next": null,
       "previous": "5dff48ac-2abb-11e9-acff-02420aff0006"
      },
      {
       "current": "a598bf2c-2abb-11e9-acff-02420aff0006",
       "next": "af560c88-2abe-11e9-acff-02420aff0006",
       "previous": "5dff48ac-2abb-11e9-acff-02420aff0006"
      }
     ],
     "next": "a315d79c-3cb0-11e9-82fa-0242c0a80004",
     "previous": "5dff48ac-2abb-11e9-acff-02420aff0006"
    }
   },
   "outputs": [],
   "source": [
    "import sys\n",
    "\n",
    "from kafka import KafkaProducer\n",
    "\n",
    "producer = KafkaProducer(bootstrap_servers=kafka+\":9092\")\n",
    "\n",
    "infile = open(\"kafka-logo.png\", 'rb')\n",
    "data = infile.read()\n",
    "producer.send('test', data).get(timeout=1)\n",
    "infile.close()\n"
   ]
  },
  {
   "cell_type": "code",
   "execution_count": null,
   "metadata": {
    "lc_cell_meme": {
     "current": "a315d79c-3cb0-11e9-82fa-0242c0a80004",
     "next": "af560c88-2abe-11e9-acff-02420aff0006",
     "previous": "a598bf2c-2abb-11e9-acff-02420aff0006"
    }
   },
   "outputs": [],
   "source": [
    "!pip install kafka-python"
   ]
  },
  {
   "cell_type": "code",
   "execution_count": null,
   "metadata": {
    "lc_cell_meme": {
     "current": "af560c88-2abe-11e9-acff-02420aff0006",
     "history": [
      {
       "current": "af560c88-2abe-11e9-acff-02420aff0006",
       "next": null,
       "previous": "a598bf2c-2abb-11e9-acff-02420aff0006"
      },
      {
       "current": "af560c88-2abe-11e9-acff-02420aff0006",
       "next": "5bc1a89e-3cb0-11e9-82fa-0242c0a80004",
       "previous": "a598bf2c-2abb-11e9-acff-02420aff0006"
      }
     ],
     "next": "5bc1a89e-3cb0-11e9-82fa-0242c0a80004",
     "previous": "a315d79c-3cb0-11e9-82fa-0242c0a80004"
    }
   },
   "outputs": [],
   "source": [
    "import sys\n",
    "import time\n",
    "from kafka import KafkaProducer\n",
    "\n",
    "frames = 60\n",
    "\n",
    "producer = KafkaProducer(acks=0,\n",
    "                         #buffer_memory=134217728,\n",
    "                         #max_request_size=134217728,\n",
    "                         #max_in_flight_requests_per_connection=30000,\n",
    "                         #max_block_ms=3600000,\n",
    "                         #retries=30000,\n",
    "                         #request_timeout_ms=3600000,\n",
    "                         #batch_size=131072,\n",
    "                         linger_ms=1,\n",
    "                         bootstrap_servers=[\"kafka0.vcp-handson.org:1718\",\"kafka1.vcp-handson.org:1719\",\"kafka2.vcp-handson.org:1720\"])\n",
    "\n",
    "start = time.time()\n",
    "\n",
    "for count in range(frames) :\n",
    "    infile = open(\"photo\"+str(count%5+1)+\".jpeg\", 'rb')\n",
    "    data = infile.read()\n",
    "    producer.send('distributed-video1', data).get()\n",
    "    infile.close()\n",
    "\n",
    "finish = time.time()\n",
    "\n",
    "print('Captured %d frames at %.2ffps' % (\n",
    "    frames,\n",
    "    frames / (finish - start)))\n"
   ]
  },
  {
   "cell_type": "code",
   "execution_count": 4,
   "metadata": {
    "deletable": false,
    "editable": false,
    "lc_cell_meme": {
     "current": "5bc1a89e-3cb0-11e9-82fa-0242c0a80004",
     "history": [
      {
       "current": "5bc1a89e-3cb0-11e9-82fa-0242c0a80004",
       "next": null,
       "previous": "af560c88-2abe-11e9-acff-02420aff0006"
      }
     ],
     "next": "59966724-3d5c-11e9-a6df-0242c0a80004",
     "previous": "af560c88-2abe-11e9-acff-02420aff0006"
    },
    "run_through_control": {
     "frozen": true
    }
   },
   "outputs": [
    {
     "name": "stdout",
     "output_type": "stream",
     "text": [
      "Captured 60 frames at 48.07fps\n"
     ]
    }
   ],
   "source": [
    "import sys\n",
    "import time\n",
    "from kafka import KafkaProducer\n",
    "\n",
    "frames = 60\n",
    "\n",
    "producer = KafkaProducer(acks=0,\n",
    "                         linger_ms=1,\n",
    "                         bootstrap_servers=[\"kafka:9092\"])\n",
    "\n",
    "start = time.time()\n",
    "\n",
    "for count in range(frames) :\n",
    "    infile = open(\"photo\"+str(count%5+1)+\".jpeg\", 'rb')\n",
    "    data = infile.read()\n",
    "    producer.send('distributed-video1', data).get()\n",
    "    infile.close()\n",
    "\n",
    "finish = time.time()\n",
    "\n",
    "print('Captured %d frames at %.2ffps' % (\n",
    "    frames,\n",
    "    frames / (finish - start)))"
   ]
  },
  {
   "cell_type": "code",
   "execution_count": null,
   "metadata": {
    "lc_cell_meme": {
     "current": "59966724-3d5c-11e9-a6df-0242c0a80004",
     "next": null,
     "previous": "5bc1a89e-3cb0-11e9-82fa-0242c0a80004"
    }
   },
   "outputs": [],
   "source": []
  }
 ],
 "metadata": {
  "kernelspec": {
   "display_name": "Python 3 (LC_wrapper)",
   "language": "python",
   "name": "python3-wrapper"
  },
  "language_info": {
   "file_extension": ".py",
   "mimetype": "text/x-python",
   "name": "python",
   "nbconvert_exporter": "python",
   "pygments_lexer": "ipython3",
   "version": "3.7.1"
  },
  "lc_notebook_meme": {
   "current": "5dff3fba-2abb-11e9-acff-02420aff0006",
   "lc_server_signature": {
    "current": {
     "notebook_dir": "/home/jovyan",
     "notebook_path": "/kafka-test",
     "server_url": "http://localhost:8888/",
     "signature_id": "57145ecc-3d55-11e9-a6df-0242c0a80004"
    },
    "history": [
     {
      "notebook_dir": "/home/jovyan",
      "notebook_path": "/",
      "server_url": "http://ip172-18-0-11-bhdverr0mkfg00f3flfg-8888.direct.labs.play-with-docker.com/",
      "signature_id": "29197538-2ab9-11e9-acff-02420aff0006"
     },
     {
      "notebook_dir": "/home/jovyan",
      "notebook_path": "/kafka-test",
      "server_url": "http://localhost:8888/",
      "signature_id": "738368f6-3caf-11e9-82fa-0242c0a80004"
     }
    ]
   }
  },
  "toc": {
   "base_numbering": 1,
   "nav_menu": {},
   "number_sections": true,
   "sideBar": true,
   "skip_h1_title": false,
   "title_cell": "Table of Contents",
   "title_sidebar": "Contents",
   "toc_cell": false,
   "toc_position": {},
   "toc_section_display": true,
   "toc_window_display": false
  }
 },
 "nbformat": 4,
 "nbformat_minor": 2
}
